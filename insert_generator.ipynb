{
 "cells": [
  {
   "cell_type": "code",
   "execution_count": 1,
   "id": "6e108352",
   "metadata": {},
   "outputs": [],
   "source": [
    "from typing import List, Any\n",
    "import pandas as pd\n",
    "import os"
   ]
  },
  {
   "cell_type": "code",
   "execution_count": 99,
   "id": "bb5d5bc9",
   "metadata": {},
   "outputs": [],
   "source": [
    "TEMPLATE = \"INSERT INTO TABLE_NAME (COLUMNS) VALUES\\nDATA;\""
   ]
  },
  {
   "cell_type": "code",
   "execution_count": 100,
   "id": "b794598b",
   "metadata": {},
   "outputs": [],
   "source": [
    "def transform_item(i: Any):\n",
    "    if type(i) == str:\n",
    "        return f\"'{i}'\"\n",
    "    elif i == None:\n",
    "        return 'NULL'\n",
    "    return str(i)\n",
    "\n",
    "def transform_list(l: List):\n",
    "    return list(map(transform_item, l))\n",
    "\n",
    "def transform_list_to_str(l: List):\n",
    "    tmp = map(lambda l_: ', '.join(l_), l)\n",
    "    tmp = map(lambda x: f'({x})', tmp)\n",
    "    return ',\\n'.join(tmp)\n",
    "\n",
    "# print(transform_list_to_str([[\"'string'\", '2', '3.4'], [\"'string2'\", '3', '4.2']]))"
   ]
  },
  {
   "cell_type": "code",
   "execution_count": 101,
   "id": "e9da09f1",
   "metadata": {},
   "outputs": [
    {
     "name": "stdout",
     "output_type": "stream",
     "text": [
      "INSERT INTO ANIME (teste, a) VALUES\n",
      "(1, 'b'),\n",
      "(2, 'c');\n"
     ]
    }
   ],
   "source": [
    "def generate_insert_tuples(table_name: str, columns: List, values: List[List[Any]]):\n",
    "    insert = TEMPLATE.replace('TABLE_NAME', table_name)\n",
    "    \n",
    "    if len(columns) <= 0:\n",
    "        insert = insert.replace('(COLUMNS) ', '')\n",
    "    else:\n",
    "        insert = insert.replace('COLUMNS', ', '.join(columns))\n",
    "        \n",
    "    values_ = map(transform_list, values)\n",
    "    values_ = transform_list_to_str(values_)\n",
    "    \n",
    "    return insert.replace('DATA', values_)\n",
    "\n",
    "print(generate_insert_tuples('ANIME', ['teste', 'a'], [[1, 'b'], [2, 'c']]))"
   ]
  },
  {
   "cell_type": "code",
   "execution_count": 102,
   "id": "61a65e77",
   "metadata": {},
   "outputs": [],
   "source": [
    "def get_unique_values(df: 'pd.DataFrame', column):\n",
    "    values = set()\n",
    "    for i in df[column]:\n",
    "        for name in i.split(', '):\n",
    "            values.add(name)\n",
    "    return [[i] for i in list(values)]"
   ]
  },
  {
   "cell_type": "code",
   "execution_count": 103,
   "id": "cca3fe89",
   "metadata": {},
   "outputs": [],
   "source": [
    "def id_gen():\n",
    "    i = 0\n",
    "    while True:\n",
    "        i += 1\n",
    "        yield i\n",
    "\n",
    "def get_ids(data: List[List[Any]]):\n",
    "    id_ = id_gen()\n",
    "    return [[i[0], next(id_)] for i in data]"
   ]
  },
  {
   "cell_type": "code",
   "execution_count": 104,
   "id": "fa4966a3",
   "metadata": {},
   "outputs": [],
   "source": [
    "def create_pairs(df, data, column):\n",
    "    data_dict = dict(data)\n",
    "    list_ = list()\n",
    "    pair = zip(df['MAL_ID'], df[column])\n",
    "    for anime_id, d in pair:\n",
    "        dl = d.split(', ')\n",
    "        for i in dl:\n",
    "            list_.append([anime_id, data_dict[i]])\n",
    "    return list_"
   ]
  },
  {
   "cell_type": "code",
   "execution_count": 105,
   "id": "df5fb734",
   "metadata": {},
   "outputs": [],
   "source": [
    "TRANSLATE = {\n",
    "    'Spring': 'primavera',\n",
    "    'Winter': 'inverno',\n",
    "    'Summer': 'verao',\n",
    "    'Fall': 'outono'\n",
    "}\n",
    "def season_split(x):\n",
    "    s = x.split()\n",
    "    if len(s) < 2 or s[0] not in ('Spring', 'Summer', 'Winter', 'Fall'):\n",
    "        return None\n",
    "    else:\n",
    "        return TRANSLATE[s[0]]\n",
    "    \n",
    "def year_split(x):\n",
    "    y = x.split()\n",
    "    if len(y) < 2:\n",
    "        return None\n",
    "    else:\n",
    "        return y[1]"
   ]
  },
  {
   "cell_type": "code",
   "execution_count": 106,
   "id": "03be028b",
   "metadata": {},
   "outputs": [
    {
     "data": {
      "text/plain": [
       "['animelist.csv',\n",
       " 'rating_complete.csv',\n",
       " 'anime_with_synopsis.csv',\n",
       " 'watching_status.csv',\n",
       " 'anime.csv']"
      ]
     },
     "execution_count": 106,
     "metadata": {},
     "output_type": "execute_result"
    }
   ],
   "source": [
    "os.listdir('anime')"
   ]
  },
  {
   "cell_type": "code",
   "execution_count": 107,
   "id": "5819728e",
   "metadata": {},
   "outputs": [],
   "source": [
    "df = pd.read_csv('anime/anime.csv')"
   ]
  },
  {
   "cell_type": "code",
   "execution_count": 108,
   "id": "e48db803",
   "metadata": {},
   "outputs": [],
   "source": [
    "df['Producers'] = df['Producers'].apply(lambda s: s.replace(\"'\", ' '))\n",
    "df['Licensors'] = df['Licensors'].apply(lambda s: s.replace(\"'\", ' '))\n",
    "df['Name'] = df['Name'].apply(lambda n: n.replace(\"'\", \" \"))\n",
    "df['Studios'] = df['Studios'].apply(lambda s: s.replace(\"'\", ' '))"
   ]
  },
  {
   "cell_type": "code",
   "execution_count": 109,
   "id": "2399ae87",
   "metadata": {},
   "outputs": [],
   "source": [
    "genres = get_ids(get_unique_values(df, 'Genres'))\n",
    "producers = get_ids(get_unique_values(df, 'Producers'))\n",
    "licensors = get_ids(get_unique_values(df, 'Licensors'))\n",
    "studios = get_ids(get_unique_values(df, 'Studios'))\n",
    "anime_genres = create_pairs(df, genres, 'Genres')\n",
    "anime_producers = create_pairs(df, producers, 'Producers')\n",
    "anime_licensors = create_pairs(df, licensors, 'Licensors')\n",
    "anime_studios = create_pairs(df, studios, 'Studios')\n",
    "\n",
    "data_ = [\n",
    "    ('GENERO', ['nome', 'id'], genres), \n",
    "    ('PRODUTOR', ['nome', 'id'], producers),\n",
    "    ('LICENCIADOR', ['nome', 'id'], licensors),\n",
    "    ('ESTUDIO', ['nome', 'id'], studios),\n",
    "    ('participa', ['anime', 'genero'], anime_genres),\n",
    "    ('produz', ['anime', 'produtor'], anime_producers), \n",
    "    ('licencia', ['anime', 'licenciador'], anime_licensors), \n",
    "    ('anima', ['anime', 'estudio'], anime_studios)]"
   ]
  },
  {
   "cell_type": "code",
   "execution_count": 110,
   "id": "679f37b8",
   "metadata": {},
   "outputs": [],
   "source": [
    "dfa = df\n",
    "dfa.drop(['Genres', 'Producers', 'Licensors', 'Studios'], axis=1, inplace=True)\n",
    "dfa.drop(['English name', 'Japanese name'], axis=1, inplace=True)\n",
    "dfa.drop(['Aired'], axis=1, inplace=True)"
   ]
  },
  {
   "cell_type": "code",
   "execution_count": 111,
   "id": "270917db",
   "metadata": {},
   "outputs": [],
   "source": [
    "dfa['year'] = dfa['Premiered'].apply(year_split)\n",
    "dfa['season'] = dfa['Premiered'].apply(season_split)\n",
    "dfa.drop(['Premiered'], axis=1, inplace=True)"
   ]
  },
  {
   "cell_type": "code",
   "execution_count": 112,
   "id": "c3b1e0f4",
   "metadata": {},
   "outputs": [
    {
     "data": {
      "text/plain": [
       "array(['primavera', None, 'verao', 'outono', 'inverno'], dtype=object)"
      ]
     },
     "execution_count": 112,
     "metadata": {},
     "output_type": "execute_result"
    }
   ],
   "source": [
    "dfa['season'].unique()"
   ]
  },
  {
   "cell_type": "code",
   "execution_count": 113,
   "id": "9e2dfcef",
   "metadata": {},
   "outputs": [],
   "source": [
    "dfa['Score'] = dfa['Score'].replace(['Unknown'], 0)\n",
    "dfa['Type'] = dfa['Type'].replace(['Unknown'], None)\n",
    "dfa['Episodes'] = dfa['Episodes'].replace(['Unknown'], 0)\n",
    "dfa['Source'] = dfa['Source'].replace(['Unknown'], 'Other')\n",
    "dfa['Ranked'] = dfa['Ranked'].replace(['Unknown'], 0)"
   ]
  },
  {
   "cell_type": "code",
   "execution_count": 114,
   "id": "731d5e4c",
   "metadata": {},
   "outputs": [
    {
     "data": {
      "text/plain": [
       "Index(['MAL_ID', 'Name', 'Score', 'Type', 'Episodes', 'Source', 'Duration',\n",
       "       'Rating', 'Ranked', 'Popularity', 'Members', 'Favorites', 'Watching',\n",
       "       'Completed', 'On-Hold', 'Dropped', 'Plan to Watch', 'Score-10',\n",
       "       'Score-9', 'Score-8', 'Score-7', 'Score-6', 'Score-5', 'Score-4',\n",
       "       'Score-3', 'Score-2', 'Score-1', 'year', 'season'],\n",
       "      dtype='object')"
      ]
     },
     "execution_count": 114,
     "metadata": {},
     "output_type": "execute_result"
    }
   ],
   "source": [
    "dfa.columns"
   ]
  },
  {
   "cell_type": "code",
   "execution_count": 115,
   "id": "291e6cf4",
   "metadata": {},
   "outputs": [],
   "source": [
    "for i in range(1, 11):\n",
    "    name = f'Score-{i}'\n",
    "    dfa[name] = dfa[name].replace(['Unknown'], 0)"
   ]
  },
  {
   "cell_type": "code",
   "execution_count": 116,
   "id": "c8875ac0",
   "metadata": {},
   "outputs": [],
   "source": [
    "dfa.drop(['Duration'], axis=1, inplace=True)\n",
    "dfa.drop(['Rating'], axis=1, inplace=True)\n",
    "dfa.drop(['Watching', 'Completed', 'On-Hold', 'Dropped', 'Plan to Watch'], axis=1, inplace=True)"
   ]
  },
  {
   "cell_type": "code",
   "execution_count": 117,
   "id": "5243328b",
   "metadata": {},
   "outputs": [],
   "source": [
    "table_columns = ['id', 'nome', 'nota', 'tipo', 'num_episodios', 'material_original',\n",
    "                '`rank`', 'popularidade', 'num_membros', 'num_favoritos', 'num_nota10',\n",
    "                'num_nota9', 'num_nota8', 'num_nota7', 'num_nota6', 'num_nota5',\n",
    "                'num_nota4', 'num_nota3', 'num_nota2', 'num_nota1', 'ano', 'estacao']"
   ]
  },
  {
   "cell_type": "code",
   "execution_count": 118,
   "id": "ee825e4c",
   "metadata": {},
   "outputs": [],
   "source": [
    "columns = list(dfa.columns)\n",
    "animes_ = zip(*[dfa[i] for i in columns])"
   ]
  },
  {
   "cell_type": "code",
   "execution_count": 119,
   "id": "36c1dbbd",
   "metadata": {},
   "outputs": [],
   "source": [
    "data_ = [('ANIME', table_columns, animes_), *data_]"
   ]
  },
  {
   "cell_type": "code",
   "execution_count": 120,
   "id": "fc78c2d3",
   "metadata": {},
   "outputs": [],
   "source": [
    "ws = pd.read_csv('anime/watching_status.csv')\n",
    "l = zip(ws['status'], ws[' description'])\n",
    "# acompanhamento\n",
    "watching_status = [[i, j] for i, j in l]\n",
    "\n",
    "data_ = [('ACOMPANHAMENTO', ['id', 'description'], watching_status), *data_]"
   ]
  },
  {
   "cell_type": "code",
   "execution_count": 121,
   "id": "f1d14efc",
   "metadata": {},
   "outputs": [],
   "source": [
    "# dfw = pd.read_csv('anime/animelist.csv')\n",
    "# users = [[i] for i in dfw['user_id'].unique()]"
   ]
  },
  {
   "cell_type": "code",
   "execution_count": 122,
   "id": "4048f6f0",
   "metadata": {},
   "outputs": [],
   "source": [
    "# dfw.columns"
   ]
  },
  {
   "cell_type": "code",
   "execution_count": 123,
   "id": "781ad81b",
   "metadata": {},
   "outputs": [],
   "source": [
    "users = set()\n",
    "    \n",
    "with open('anime/animelist.csv', 'r') as fd:\n",
    "    fd.readline()\n",
    "    for i in fd:\n",
    "        users.add(i.split(',')[0])"
   ]
  },
  {
   "cell_type": "code",
   "execution_count": 124,
   "id": "10c8fd11",
   "metadata": {},
   "outputs": [],
   "source": [
    "users_ = [[i] for i in users]"
   ]
  },
  {
   "cell_type": "code",
   "execution_count": 125,
   "id": "7e598e75",
   "metadata": {},
   "outputs": [],
   "source": [
    "data_ = [('USUARIO', ['id'], users_), *data_]"
   ]
  },
  {
   "cell_type": "code",
   "execution_count": 126,
   "id": "d8e16121",
   "metadata": {},
   "outputs": [],
   "source": [
    "with open('popula.sql', 'a+') as fd:\n",
    "    for i in data_:\n",
    "        fd.write(generate_insert_tuples(*i))\n",
    "        fd.write('\\n\\n')"
   ]
  },
  {
   "cell_type": "markdown",
   "id": "c809cacc",
   "metadata": {},
   "source": [
    "A célula abaixo adiciona ao arquivo popula apenas um subconjunto (500 mil tuplas) da tabela 'assiste'. Como a tabela inteira tem um volume muito grande, recomenda-se utilizar isso para ser mais rápido. **Não execute as células abaixo se executar esta**."
   ]
  },
  {
   "cell_type": "code",
   "execution_count": 128,
   "id": "804190da",
   "metadata": {},
   "outputs": [],
   "source": [
    "out = open('popula.sql', 'a+')\n",
    "out.write('INSERT INTO assiste (usuario, anime, nota, acompanhamento, num_episodios_assistidos) VALUES\\n')\n",
    "limit = 0\n",
    "with open('anime/animelist.csv', 'r') as fd:\n",
    "    fd.readline()\n",
    "    last = f'({fd.readline().strip()})'\n",
    "    for i in fd:\n",
    "        if limit > 500000:\n",
    "            break\n",
    "        out.write(f'{last},\\n')\n",
    "        last = f'({i.strip()})'\n",
    "        limit += 1\n",
    "    out.write(f'{last};\\n\\n')\n",
    "out.close()"
   ]
  },
  {
   "cell_type": "markdown",
   "id": "3629af88",
   "metadata": {},
   "source": [
    "As últimas células criam INSERTs em batch de 500 mil tuplas. Isso é feito pois existe um limite no mysql da quantidade de dados que podem ser enviados para um único comando."
   ]
  },
  {
   "cell_type": "code",
   "execution_count": 2,
   "id": "fd5a4fdd",
   "metadata": {},
   "outputs": [],
   "source": [
    "def write_newlines(fd): fd.write(';\\n\\n')"
   ]
  },
  {
   "cell_type": "code",
   "execution_count": 7,
   "id": "ca51ac6e",
   "metadata": {},
   "outputs": [],
   "source": [
    "out = open('popula.sql', 'a+')\n",
    "counter = 0\n",
    "limit = 500000\n",
    "with open('anime/animelist.csv', 'r') as fd:\n",
    "    fd.readline() # reads the head\n",
    "    for line in fd:\n",
    "        line_ = f'({line.strip()})'\n",
    "        if counter == 0:\n",
    "            out.write('INSERT INTO assiste (usuario, anime, nota, acompanhamento, num_episodios_assistidos) VALUES\\n')\n",
    "            out.write(line_)\n",
    "        else:\n",
    "            out.write(f',{line_}')\n",
    "        counter += 1;\n",
    "        if counter >= limit:\n",
    "            counter = 0\n",
    "            write_newlines(out)\n",
    "out.close()"
   ]
  }
 ],
 "metadata": {
  "kernelspec": {
   "display_name": "Python 3 (ipykernel)",
   "language": "python",
   "name": "python3"
  },
  "language_info": {
   "codemirror_mode": {
    "name": "ipython",
    "version": 3
   },
   "file_extension": ".py",
   "mimetype": "text/x-python",
   "name": "python",
   "nbconvert_exporter": "python",
   "pygments_lexer": "ipython3",
   "version": "3.10.5"
  },
  "vscode": {
   "interpreter": {
    "hash": "916dbcbb3f70747c44a77c7bcd40155683ae19c65e1c03b4aa3499c5328201f1"
   }
  }
 },
 "nbformat": 4,
 "nbformat_minor": 5
}
